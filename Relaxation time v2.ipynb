{
 "cells": [
  {
   "cell_type": "code",
   "execution_count": 1,
   "id": "c46c8763",
   "metadata": {},
   "outputs": [],
   "source": [
    "'''Import necessary libraries'''\n",
    "\n",
    "import numpy as np\n",
    "import math\n",
    "rng = np.random.default_rng()  \n",
    "import matplotlib.pylab as plt\n",
    "import random"
   ]
  },
  {
   "cell_type": "code",
   "execution_count": 3,
   "id": "9e516e0b",
   "metadata": {},
   "outputs": [
    {
     "name": "stdout",
     "output_type": "stream",
     "text": [
      "[5.         4.80817542 4.62371018 4.44632193 4.27573917 4.1117008\n",
      " 3.95395574 3.80226257 3.65638909 3.51611203 3.38121669 3.2514966\n",
      " 3.12675321 3.00679558 2.89144013 2.78051027 2.67383623 2.57125473\n",
      " 2.47260876 2.37774733 2.28652526 2.19880291 2.11444602 2.03332548\n",
      " 1.95531712 1.88030155 1.80816394 1.73879388 1.6720852  1.60793579\n",
      " 1.54624747 1.48692582 1.42988004 1.37502281 1.32227018 1.27154139\n",
      " 1.22275882 1.17584778 1.13073648 1.08735587 1.04563955 1.00552368\n",
      " 0.96694685 0.92985002 0.8941764  0.8598714  0.8268825  0.79515923\n",
      " 0.76465301 0.73531716 0.70710678 0.67997869 0.65389136 0.62880488\n",
      " 0.60468083 0.5814823  0.55917378 0.53772113 0.5170915  0.49725333\n",
      " 0.47817625 0.45983106 0.44218968 0.42522511 0.40891138 0.39322353\n",
      " 0.37813755 0.36363033 0.34967968 0.33626425 0.3233635  0.31095769\n",
      " 0.29902782 0.28755565 0.2765236  0.26591479 0.255713   0.24590259\n",
      " 0.23646856 0.22739646 0.21867241 0.21028307 0.20221557 0.19445759\n",
      " 0.18699724 0.17982311 0.17292421 0.16628999 0.15991029 0.15377534\n",
      " 0.14787576 0.14220252 0.13674693 0.13150065 0.12645564 0.12160418\n",
      " 0.11693885 0.1124525  0.10813827 0.10398955 0.1       ]\n"
     ]
    }
   ],
   "source": [
    "'''generate the array of temperatures of interest\n",
    "logarithmic, so more points at low temperatures'''\n",
    "n = np.linspace(0,100,101)\n",
    "Tmax = 5\n",
    "Tmin = 0.1\n",
    "b = (Tmax/Tmin)**(1/100)\n",
    "Tn = Tmax/(b**n) \n",
    "print(Tn)"
   ]
  },
  {
   "cell_type": "code",
   "execution_count": null,
   "id": "47035829",
   "metadata": {},
   "outputs": [],
   "source": [
    "# Initialise initial random lattice\n",
    "\n",
    "def init_spin(width):\n",
    "    '''Produce an initial lattice with random spins 1 or -1'''\n",
    "    lat = rng.integers(0,2,(width,width))*2-1\n",
    "    \n",
    "    return lat"
   ]
  },
  {
   "cell_type": "code",
   "execution_count": null,
   "id": "fbe5955f",
   "metadata": {},
   "outputs": [],
   "source": [
    "# Generating the Metropolis-Hastings algorithm\n",
    "\n",
    "def neighbouring_sites1(i,j,width):\n",
    "    '''Returns the coordinates of the 4 spins around 1 of the lattice sites. Takes into account periodic boundary conditions.''' \n",
    "    if (i+j)%2==0:\n",
    "        return [i,j], [(i + 1) % (width), j], [i, (j+1) % (width)], [(i + 1) % (width), (j+1) % (width)]\n",
    "    else:\n",
    "        return [i,j], [(i + 1) % (width), j], [i, (j-1) % (width)], [(i + 1) % (width), (j-1) % (width)]\n",
    "def neighbouring_sites2(i,j,width):\n",
    "    '''Returns the coordinates of the 4 spins around the other lattice site. Takes into account periodic boundary conditions.''' \n",
    "    if (i+j)%2==0:\n",
    "        return [i,j], [(i - 1) % (width), j], [i, (j-1) % (width)], [(i - 1) % (width), (j-1) % (width)]\n",
    "    else:\n",
    "        return [i,j], [(i - 1) % (width), j], [i, (j+1) % (width)], [(i - 1) % (width), (j+1) % (width)]\n",
    "    \n",
    "def neighbouring_spins_sum1old(i,j,lattice,width,nntable):\n",
    "    '''Sums the total spin around 1 lattice site.'''\n",
    "    H = 0\n",
    "    for k in range(0,4):\n",
    "        x = nntable[i,j,0,k]\n",
    "        y = nntable[i,j,1,k]\n",
    "        H += lattice[int(x),int(y)]\n",
    "    return H\n",
    "\n",
    "def neighbouring_spins_sum2old(i,j,lattice,width,nntable):\n",
    "    '''Sums the total spin around the other lattice site.'''\n",
    "    H = 0\n",
    "    for k in (0,4,5,6):\n",
    "        x = nntable[i,j,0,k]\n",
    "        y = nntable[i,j,1,k]\n",
    "        H += lattice[int(x),int(y)]\n",
    "    return H\n",
    "\n",
    "\n",
    "def neighbouring_spins_sum1new(i,j,lattice,width,nntable):\n",
    "    '''Sums the total spin around 1 lattice site, if the spin is flipped.'''\n",
    "    H = 0\n",
    "    lattice[i,j] = -lattice[i,j]\n",
    "    for k in range(0,4):\n",
    "        x = nntable[i,j,0,k]\n",
    "        y = nntable[i,j,1,k]\n",
    "        H += lattice[int(x),int(y)]\n",
    "    lattice[i,j] = -lattice[i,j]\n",
    "    return H\n",
    "\n",
    "def neighbouring_spins_sum2new(i,j,lattice,width,nntable):\n",
    "    '''Sums the total spin around the other lattice site, if the spin is flipped.'''\n",
    "    H = 0\n",
    "    lattice[i,j] = -lattice[i,j]\n",
    "    for k in (0,4,5,6):\n",
    "        x = nntable[i,j,0,k]\n",
    "        y = nntable[i,j,1,k]\n",
    "        H += lattice[int(x),int(y)]\n",
    "    lattice[i,j] = -lattice[i,j]\n",
    "    return H\n",
    "\n",
    "def compute_deltaE(i,j,lattice,width,J,h,T,nntable):\n",
    "    '''Computes the energy difference between the old and new state if spin [i,j] would be flipped.'''\n",
    "    sn1 = neighbouring_spins_sum1new(i,j,lattice,width,nntable)\n",
    "    sn2 = neighbouring_spins_sum2new(i,j,lattice,width,nntable)\n",
    "    so1 = neighbouring_spins_sum1old(i,j,lattice,width,nntable)\n",
    "    so2 = neighbouring_spins_sum2old(i,j,lattice,width,nntable)\n",
    "    deltaE = J/2*(sn1*sn1 + sn2*sn2 - so1*so1 - so2*so2)\n",
    "    return deltaE\n",
    "\n",
    "def attempt_spin_flip(lattice,width,J,h,T,nntable):\n",
    "    '''Applies the Metropolis-Hastings algorithm to try and flip a spin.'''\n",
    "    i,j = rng.integers(0,width,2)\n",
    "    E = compute_deltaE(i,j,lattice,width,J,h,T,nntable)\n",
    "    if E <= 0:\n",
    "        lattice[i,j] = -lattice[i,j]\n",
    "    elif rng.random() < np.exp(-E/T):\n",
    "        lattice[i,j] = -lattice[i,j]"
   ]
  },
  {
   "cell_type": "code",
   "execution_count": null,
   "id": "e2e94cab",
   "metadata": {},
   "outputs": [],
   "source": [
    "#generate a 4-d array of the lattice to map each lattice point to its neighbours\n",
    "#speeds up the computation by having a look-up table\n",
    "def nearestneighbourstable(width):\n",
    "    nn = np.zeros((width,width,2,7))\n",
    "    for i in range(0,width):\n",
    "        for j in range(0,width):\n",
    "            nn[i,j,:,0] = neighbouring_sites1(i,j,width)[0]\n",
    "            nn[i,j,:,1] = neighbouring_sites1(i,j,width)[1]\n",
    "            nn[i,j,:,2] = neighbouring_sites1(i,j,width)[2]\n",
    "            nn[i,j,:,3] = neighbouring_sites1(i,j,width)[3]\n",
    "            nn[i,j,:,4] = neighbouring_sites2(i,j,width)[1]\n",
    "            nn[i,j,:,5] = neighbouring_sites2(i,j,width)[2]\n",
    "            nn[i,j,:,6] = neighbouring_sites2(i,j,width)[3]\n",
    "\n",
    "    return nn"
   ]
  },
  {
   "cell_type": "code",
   "execution_count": null,
   "id": "136d9fa4",
   "metadata": {},
   "outputs": [],
   "source": [
    "# Compute auto correlation function\n",
    "\n",
    "def auto_correlation(lattice, S0, width):\n",
    "    corr = 0\n",
    "    for i in range(0,width):\n",
    "        for j in range(0,width):\n",
    "            corr += lattice[i,j]*S0[i,j]\n",
    "            \n",
    "    return corr/(width*width)"
   ]
  },
  {
   "cell_type": "code",
   "execution_count": null,
   "id": "804e7724",
   "metadata": {},
   "outputs": [],
   "source": [
    "# Perform 1 Monte Carlo step on the lattice\n",
    "def monte_step(lattice,width,J,h,T,nntable):\n",
    "    for i in range(0, width*width):\n",
    "        attempt_spin_flip(lattice,width,J,h,T,nntable)"
   ]
  },
  {
   "cell_type": "code",
   "execution_count": null,
   "id": "78668de7",
   "metadata": {},
   "outputs": [],
   "source": [
    "'''Code to find the relaxation time at each temperature'''\n",
    "\n",
    "#set the physical quantities for the system\n",
    "width = 10\n",
    "J= 1\n",
    "h= 0\n",
    "ave=5\n",
    "nntable = nearestneighbourstable(width)\n",
    "\n",
    "#generate empty relaxation time array and thermalise initial lattice\n",
    "tau_100=[]\n",
    "a=1\n",
    "S = init_spin(width)\n",
    "for i in range(0,5):\n",
    "    monte_step(S,width,J,h,Tn[0],nntable)\n",
    "    \n",
    "    \n",
    "#start the loop to calculate relaxation time\n",
    "for T in Tn:\n",
    "    t = 0\n",
    "    for j in range(0,ave):        #results are averaged over ave histories\n",
    "        S0 = np.copy(S)\n",
    "        for i in range(1,a*10):        #to ensure the systems runs for enough MCS, the max is determined by the previous result\n",
    "            monte_step(S,width,J,h,T,nntable)\n",
    "            corr = auto_correlation(S, S0, width)\n",
    "            if corr < math.exp(-1):\n",
    "                t += i\n",
    "                break\n",
    "    \n",
    "    a = math.ceil(t/ave)\n",
    "    tau_100.append(a)\n",
    "    print(T,t/ave)\n",
    "print(tau_100)          #output is the array of relaxation times"
   ]
  },
  {
   "cell_type": "code",
   "execution_count": 5,
   "id": "e9a451f1",
   "metadata": {},
   "outputs": [
    {
     "data": {
      "image/png": "[encoded data removed]",
      "text/plain": [
       "<Figure size 640x480 with 1 Axes>"
      ]
     },
     "metadata": {},
     "output_type": "display_data"
    }
   ],
   "source": [
    "#Plot the relaxation time with the array output of the previous code\n",
    "\n",
    "tau_100 = [1, 1, 1, 1, 1, 1, 1, 1, 1, 1, 1, 1, 2, 2, 2, 2, 2, 2, 2, 2, 2, 2, 2, 2, 2, 2, 2, 2, 2, 2, 3, 3, 3, 3, 3, 3, 3, 4, 4, 4, 5, 5, 6, 6, 6, 7, 8, 9, 10, 12, 13, 15, 17, 20, 24, 27, 30, 39, 47, 55, 65, 79, 88, 133, 165, 232, 272, 344, 427, 592, 694, 900, 1263, 1787, 4525, 2673, 11494, 8982]\n",
    "plt.title(\"Relaxation times for a lattice of size 100x100\")\n",
    "plt.xlabel(\"T\")\n",
    "plt.ylabel(\"Relaxation time (MCS)\")\n",
    "plt.scatter(Tn[0:len(tau_100)], tau_100, s=10)\n",
    "plt.yscale('log')\n",
    "plt.rc('axes', titlesize=22)     # fontsize of the axes title\n",
    "plt.rc('axes', labelsize=20)    # fontsize of the x and y labels\n",
    "plt.rc('xtick', labelsize=18)    # fontsize of the tick labels\n",
    "plt.rc('ytick', labelsize=18)    # fontsize of the tick labels\n",
    "plt.rc('legend', fontsize=13)    # legend fontsize\n",
    "plt.rc('figure', titlesize=20)  # fontsize of the figure title\n",
    "#plt.xscale('log')\n",
    "plt.show()"
   ]
  },
  {
   "cell_type": "code",
   "execution_count": null,
   "id": "8790549f",
   "metadata": {},
   "outputs": [],
   "source": []
  }
 ],
 "metadata": {
  "kernelspec": {
   "display_name": "Python 3 (ipykernel)",
   "language": "python",
   "name": "python3"
  },
  "language_info": {
   "codemirror_mode": {
    "name": "ipython",
    "version": 3
   },
   "file_extension": ".py",
   "mimetype": "text/x-python",
   "name": "python",
   "nbconvert_exporter": "python",
   "pygments_lexer": "ipython3",
   "version": "3.9.13"
  }
 },
 "nbformat": 4,
 "nbformat_minor": 5
}
